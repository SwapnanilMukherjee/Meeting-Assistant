{
 "cells": [
  {
   "cell_type": "code",
   "execution_count": 1,
   "id": "compound-barcelona",
   "metadata": {},
   "outputs": [],
   "source": [
    "import numpy as np\n",
    "import speech_recognition as sr\n",
    "import pyttsx3 as pt"
   ]
  },
  {
   "cell_type": "code",
   "execution_count": 4,
   "id": "usual-scroll",
   "metadata": {},
   "outputs": [],
   "source": [
    "# The speech to text module, which converts actively converts speech to text. Needs PyAudio to be installed for \n",
    "# using microphone input\n",
    "\n",
    "\n",
    "# import speech_recognition as sr\n",
    "# r = sr.Recognizer()\n",
    "# with sr.Microphone() as source:\n",
    "#     print(\"Speak Anything :\")\n",
    "#     audio = r.listen(source)\n",
    "#     try:\n",
    "#         text = r.recognize_google(audio) \n",
    "#         print(\"You said : {}\".format(text))\n",
    "#     except:\n",
    "#         print(\"Sorry could not recognize what you said\")"
   ]
  },
  {
   "cell_type": "code",
   "execution_count": 3,
   "id": "enhanced-compiler",
   "metadata": {},
   "outputs": [],
   "source": [
    "from resemblyzer import preprocess_wav, VoiceEncoder\n",
    "from pathlib import Path"
   ]
  },
  {
   "cell_type": "code",
   "execution_count": 9,
   "id": "paperback-southeast",
   "metadata": {},
   "outputs": [
    {
     "name": "stdout",
     "output_type": "stream",
     "text": [
      "Loaded the voice encoder model on cpu in 0.02 seconds.\n",
      "(318, 256)\n"
     ]
    }
   ],
   "source": [
    "#give the file path to your audio file\n",
    "audio_file_path = 'Recording.wav'\n",
    "wav_fpath = Path(audio_file_path)\n",
    "\n",
    "wav = preprocess_wav(wav_fpath)\n",
    "encoder = VoiceEncoder(\"cpu\")\n",
    "_, cont_embeds, wav_splits = encoder.embed_utterance(wav, return_partials=True, rate=16)\n",
    "print(cont_embeds.shape)"
   ]
  },
  {
   "cell_type": "code",
   "execution_count": 10,
   "id": "chinese-spending",
   "metadata": {},
   "outputs": [
    {
     "name": "stdout",
     "output_type": "stream",
     "text": [
      "Recording.wav\n"
     ]
    },
    {
     "name": "stderr",
     "output_type": "stream",
     "text": [
      "c:\\users\\swapn\\appdata\\local\\programs\\python\\python39\\lib\\site-packages\\pydub\\utils.py:170: RuntimeWarning: Couldn't find ffmpeg or avconv - defaulting to ffmpeg, but may not work\n",
      "  warn(\"Couldn't find ffmpeg or avconv - defaulting to ffmpeg, but may not work\", RuntimeWarning)\n"
     ]
    }
   ],
   "source": [
    "from pydub import AudioSegment\n",
    "\n",
    "def mp3_to_wav(audio_file_path):\n",
    "    sound = AudioSegment.from_mp3(audio_file_path)\n",
    "    audio_file_path = audio_file_path.split('.')[0] + '.wav'\n",
    "    sound.export(audio_file_path, format=\"wav\")\n",
    "    return audio_file_path\n",
    "\n",
    "audio_file_path = mp3_to_wav(audio_file_path)\n",
    "print(audio_file_path)"
   ]
  },
  {
   "cell_type": "code",
   "execution_count": 11,
   "id": "comfortable-croatia",
   "metadata": {},
   "outputs": [],
   "source": [
    "from spectralcluster import SpectralClusterer\n",
    "\n",
    "clusterer = SpectralClusterer(\n",
    "    min_clusters=2,\n",
    "    max_clusters=100,\n",
    "    p_percentile=0.90,\n",
    "    gaussian_blur_sigma=1)\n",
    "\n",
    "labels = clusterer.predict(cont_embeds)"
   ]
  },
  {
   "cell_type": "code",
   "execution_count": 12,
   "id": "ancient-hayes",
   "metadata": {},
   "outputs": [],
   "source": [
    "def create_labelling(labels,wav_splits):\n",
    "    from resemblyzer import sampling_rate\n",
    "    times = [((s.start + s.stop) / 2) / sampling_rate for s in wav_splits]\n",
    "    labelling = []\n",
    "    start_time = 0\n",
    "\n",
    "    for i,time in enumerate(times):\n",
    "        if i>0 and labels[i]!=labels[i-1]:\n",
    "            temp = [str(labels[i-1]),start_time,time]\n",
    "            labelling.append(tuple(temp))\n",
    "            start_time = time\n",
    "        if i==len(times)-1:\n",
    "            temp = [str(labels[i]),start_time,time]\n",
    "            labelling.append(tuple(temp))\n",
    "\n",
    "    return labelling\n",
    "  \n",
    "labelling = create_labelling(labels,wav_splits)"
   ]
  },
  {
   "cell_type": "code",
   "execution_count": 2,
   "id": "global-contamination",
   "metadata": {},
   "outputs": [],
   "source": [
    "# text to speech module to convert the answer string into speech\n",
    "\n",
    "# import pyttsx3\n",
    "# engine = pyttsx3.init()\n",
    "# ans = 'I live near my school'\n",
    "# engine.say(ans)\n",
    "# engine.runAndWait()"
   ]
  }
 ],
 "metadata": {
  "kernelspec": {
   "display_name": "Python 3",
   "language": "python",
   "name": "python3"
  },
  "language_info": {
   "codemirror_mode": {
    "name": "ipython",
    "version": 3
   },
   "file_extension": ".py",
   "mimetype": "text/x-python",
   "name": "python",
   "nbconvert_exporter": "python",
   "pygments_lexer": "ipython3",
   "version": "3.9.1"
  }
 },
 "nbformat": 4,
 "nbformat_minor": 5
}
