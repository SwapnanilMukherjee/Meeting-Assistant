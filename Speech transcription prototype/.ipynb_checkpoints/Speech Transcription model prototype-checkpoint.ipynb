{
 "cells": [
  {
   "cell_type": "code",
   "execution_count": 1,
   "id": "compound-barcelona",
   "metadata": {},
   "outputs": [],
   "source": [
    "import numpy as np\n",
    "import speech_recognition as sr\n",
    "import pyttsx3 as pt"
   ]
  },
  {
   "cell_type": "code",
   "execution_count": 2,
   "id": "usual-scroll",
   "metadata": {},
   "outputs": [],
   "source": [
    "# The speech to text module, which converts actively converts speech to text. Needs PyAudio to be installed for \n",
    "# using microphone input\n",
    "\n",
    "\n",
    "# import speech_recognition as sr\n",
    "# r = sr.Recognizer()\n",
    "# with sr.Microphone() as source:\n",
    "#     print(\"Speak Anything :\")\n",
    "#     audio = r.listen(source)\n",
    "#     try:\n",
    "#         text = r.recognize_google(audio) \n",
    "#         print(\"You said : {}\".format(text))\n",
    "#     except:\n",
    "#         print(\"Sorry could not recognize what you said\")"
   ]
  },
  {
   "cell_type": "code",
   "execution_count": 3,
   "id": "enhanced-compiler",
   "metadata": {},
   "outputs": [],
   "source": [
    "from resemblyzer import preprocess_wav, VoiceEncoder\n",
    "from pathlib import Path"
   ]
  },
  {
   "cell_type": "code",
   "execution_count": 4,
   "id": "paperback-southeast",
   "metadata": {},
   "outputs": [
    {
     "name": "stdout",
     "output_type": "stream",
     "text": [
      "Loaded the voice encoder model on cpu in 0.02 seconds.\n",
      "(318, 256)\n"
     ]
    }
   ],
   "source": [
    "#give the file path to your audio file\n",
    "audio_file_path = 'Recording.wav'\n",
    "wav_fpath = Path(audio_file_path)\n",
    "\n",
    "wav = preprocess_wav(wav_fpath)\n",
    "encoder = VoiceEncoder(\"cpu\")\n",
    "_, cont_embeds, wav_splits = encoder.embed_utterance(wav, return_partials=True, rate=16)\n",
    "print(cont_embeds.shape)"
   ]
  },
  {
   "cell_type": "code",
   "execution_count": 5,
   "id": "chinese-spending",
   "metadata": {},
   "outputs": [
    {
     "name": "stdout",
     "output_type": "stream",
     "text": [
      "Recording.wav\n"
     ]
    }
   ],
   "source": [
    "from pydub import AudioSegment\n",
    "\n",
    "def mp3_to_wav(audio_file_path):\n",
    "    sound = AudioSegment.from_mp3(audio_file_path)\n",
    "    audio_file_path = audio_file_path.split('.')[0] + '.wav'\n",
    "    sound.export(audio_file_path, format=\"wav\")\n",
    "    return audio_file_path\n",
    "\n",
    "audio_file_path = mp3_to_wav(audio_file_path)\n",
    "print(audio_file_path)"
   ]
  },
  {
   "cell_type": "code",
   "execution_count": 6,
   "id": "comfortable-croatia",
   "metadata": {},
   "outputs": [],
   "source": [
    "from spectralcluster import SpectralClusterer\n",
    "\n",
    "clusterer = SpectralClusterer(\n",
    "    min_clusters=2,\n",
    "    max_clusters=100,\n",
    "    p_percentile=0.90,\n",
    "    gaussian_blur_sigma=1)\n",
    "\n",
    "labels = clusterer.predict(cont_embeds)"
   ]
  },
  {
   "cell_type": "code",
   "execution_count": 7,
   "id": "ancient-hayes",
   "metadata": {},
   "outputs": [
    {
     "ename": "ImportError",
     "evalue": "cannot import name 'sampling_rate' from 'resemblyzer' (c:\\users\\swapn\\appdata\\local\\programs\\python\\python39\\lib\\site-packages\\resemblyzer\\__init__.py)",
     "output_type": "error",
     "traceback": [
      "\u001b[1;31m---------------------------------------------------------------------------\u001b[0m",
      "\u001b[1;31mImportError\u001b[0m                               Traceback (most recent call last)",
      "\u001b[1;32m<ipython-input-7-2070e392cd90>\u001b[0m in \u001b[0;36m<module>\u001b[1;34m\u001b[0m\n\u001b[0;32m     16\u001b[0m     \u001b[1;32mreturn\u001b[0m \u001b[0mlabelling\u001b[0m\u001b[1;33m\u001b[0m\u001b[1;33m\u001b[0m\u001b[0m\n\u001b[0;32m     17\u001b[0m \u001b[1;33m\u001b[0m\u001b[0m\n\u001b[1;32m---> 18\u001b[1;33m \u001b[0mlabelling\u001b[0m \u001b[1;33m=\u001b[0m \u001b[0mcreate_labelling\u001b[0m\u001b[1;33m(\u001b[0m\u001b[0mlabels\u001b[0m\u001b[1;33m,\u001b[0m\u001b[0mwav_splits\u001b[0m\u001b[1;33m)\u001b[0m\u001b[1;33m\u001b[0m\u001b[1;33m\u001b[0m\u001b[0m\n\u001b[0m",
      "\u001b[1;32m<ipython-input-7-2070e392cd90>\u001b[0m in \u001b[0;36mcreate_labelling\u001b[1;34m(labels, wav_splits)\u001b[0m\n\u001b[0;32m      1\u001b[0m \u001b[1;32mdef\u001b[0m \u001b[0mcreate_labelling\u001b[0m\u001b[1;33m(\u001b[0m\u001b[0mlabels\u001b[0m\u001b[1;33m,\u001b[0m\u001b[0mwav_splits\u001b[0m\u001b[1;33m)\u001b[0m\u001b[1;33m:\u001b[0m\u001b[1;33m\u001b[0m\u001b[1;33m\u001b[0m\u001b[0m\n\u001b[1;32m----> 2\u001b[1;33m     \u001b[1;32mfrom\u001b[0m \u001b[0mresemblyzer\u001b[0m \u001b[1;32mimport\u001b[0m \u001b[0msampling_rate\u001b[0m\u001b[1;33m\u001b[0m\u001b[1;33m\u001b[0m\u001b[0m\n\u001b[0m\u001b[0;32m      3\u001b[0m     \u001b[0mtimes\u001b[0m \u001b[1;33m=\u001b[0m \u001b[1;33m[\u001b[0m\u001b[1;33m(\u001b[0m\u001b[1;33m(\u001b[0m\u001b[0ms\u001b[0m\u001b[1;33m.\u001b[0m\u001b[0mstart\u001b[0m \u001b[1;33m+\u001b[0m \u001b[0ms\u001b[0m\u001b[1;33m.\u001b[0m\u001b[0mstop\u001b[0m\u001b[1;33m)\u001b[0m \u001b[1;33m/\u001b[0m \u001b[1;36m2\u001b[0m\u001b[1;33m)\u001b[0m \u001b[1;33m/\u001b[0m \u001b[0msampling_rate\u001b[0m \u001b[1;32mfor\u001b[0m \u001b[0ms\u001b[0m \u001b[1;32min\u001b[0m \u001b[0mwav_splits\u001b[0m\u001b[1;33m]\u001b[0m\u001b[1;33m\u001b[0m\u001b[1;33m\u001b[0m\u001b[0m\n\u001b[0;32m      4\u001b[0m     \u001b[0mlabelling\u001b[0m \u001b[1;33m=\u001b[0m \u001b[1;33m[\u001b[0m\u001b[1;33m]\u001b[0m\u001b[1;33m\u001b[0m\u001b[1;33m\u001b[0m\u001b[0m\n\u001b[0;32m      5\u001b[0m     \u001b[0mstart_time\u001b[0m \u001b[1;33m=\u001b[0m \u001b[1;36m0\u001b[0m\u001b[1;33m\u001b[0m\u001b[1;33m\u001b[0m\u001b[0m\n",
      "\u001b[1;31mImportError\u001b[0m: cannot import name 'sampling_rate' from 'resemblyzer' (c:\\users\\swapn\\appdata\\local\\programs\\python\\python39\\lib\\site-packages\\resemblyzer\\__init__.py)"
     ]
    }
   ],
   "source": [
    "def create_labelling(labels,wav_splits):\n",
    "    from resemblyzer import sampling_rate\n",
    "    times = [((s.start + s.stop) / 2) / sampling_rate for s in wav_splits]\n",
    "    labelling = []\n",
    "    start_time = 0\n",
    "\n",
    "    for i,time in enumerate(times):\n",
    "        if i>0 and labels[i]!=labels[i-1]:\n",
    "            temp = [str(labels[i-1]),start_time,time]\n",
    "            labelling.append(tuple(temp))\n",
    "            start_time = time\n",
    "        if i==len(times)-1:\n",
    "            temp = [str(labels[i]),start_time,time]\n",
    "            labelling.append(tuple(temp))\n",
    "\n",
    "    return labelling\n",
    "  \n",
    "labelling = create_labelling(labels,wav_splits)"
   ]
  },
  {
   "cell_type": "code",
   "execution_count": null,
   "id": "dedicated-substance",
   "metadata": {},
   "outputs": [],
   "source": [
    "import os\n",
    "from moviepy.video.io.ffmpeg_tools import ffmpeg_extract_subclip\n",
    "import speech_recognition as sr\n",
    "from pydub import AudioSegment\n",
    "\n",
    "r = sr.Recognizer()\n",
    "\n",
    "for i in labelling:\n",
    "    speaker, start, stop = i\n",
    "    ffmpeg_extract_subclip(\"Recording.wav\", start, stop, targetname=\"shorter_file.wav\")\n",
    "    AUDIO_FILE = 'shorter_file.wav'\n",
    "    with sr.AudioFile(AUDIO_FILE) as source:\n",
    "        audio = r.record(source)  # read the entire audio file                  \n",
    "\n",
    "    text = r.recognize_google(audio)\n",
    "    \n",
    "    with open('transcript.txt', 'a') as file:\n",
    "        file.write(\"Speaker {}: {}\".format(speaker, text))\n",
    "        file.write(\"\\n\")\n",
    "    os.remove(\"shorter_file.wav\")\n",
    "    "
   ]
  },
  {
   "cell_type": "code",
   "execution_count": null,
   "id": "compressed-difficulty",
   "metadata": {},
   "outputs": [],
   "source": []
  }
 ],
 "metadata": {
  "kernelspec": {
   "display_name": "Python 3",
   "language": "python",
   "name": "python3"
  },
  "language_info": {
   "codemirror_mode": {
    "name": "ipython",
    "version": 3
   },
   "file_extension": ".py",
   "mimetype": "text/x-python",
   "name": "python",
   "nbconvert_exporter": "python",
   "pygments_lexer": "ipython3",
   "version": "3.9.1"
  }
 },
 "nbformat": 4,
 "nbformat_minor": 5
}
